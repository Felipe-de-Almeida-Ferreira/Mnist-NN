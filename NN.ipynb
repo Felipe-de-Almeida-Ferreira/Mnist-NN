{
 "cells": [
  {
   "cell_type": "markdown",
   "metadata": {},
   "source": [
    "### IMPORTS"
   ]
  },
  {
   "cell_type": "code",
   "execution_count": 64,
   "metadata": {},
   "outputs": [],
   "source": [
    "import numpy as np\n",
    "import pandas as pd\n",
    "import pickle as pkl\n",
    "import csv\n",
    "import random\n",
    "import matplotlib.pyplot as plt\n",
    "from sklearn.preprocessing import OneHotEncoder\n",
    "from sklearn.metrics import accuracy_score\n",
    "import itertools\n"
   ]
  },
  {
   "cell_type": "markdown",
   "metadata": {},
   "source": [
    "### ATIVAÇÕES"
   ]
  },
  {
   "cell_type": "code",
   "execution_count": 65,
   "metadata": {},
   "outputs": [],
   "source": [
    "def linear(x, derivative=False):\n",
    "    return np.ones_like(x) if derivative else x\n",
    "\n",
    "def sigmoid(x, derivative=False):\n",
    "    if derivative:\n",
    "        y = sigmoid(x)\n",
    "        return y*(1 - y)\n",
    "    return 1.0/(1.0 + np.exp(-x))\n",
    "\n",
    "def tanh(x, derivative=False):\n",
    "    if derivative:\n",
    "        y = tanh(x)\n",
    "        return 1 - y**2\n",
    "    return (np.exp(x) - np.exp(-x))/(np.exp(x) + np.exp(-x))\n",
    "\n",
    "def relu(x, derivative=False):\n",
    "    if derivative:\n",
    "        return np.where(x <= 0, 0, 1)\n",
    "    return np.maximum(0, x)\n",
    "\n",
    "def leaky_relu(x, derivative=False):\n",
    "    alpha = 0.1\n",
    "    if derivative:\n",
    "        return np.where(x <= 0, alpha, 1)\n",
    "    return np.where(x <= 0, alpha*x, x)\n",
    "\n",
    "def elu(x, derivative=False):\n",
    "    alpha = 1.0\n",
    "    if derivative:\n",
    "        y = elu(x)\n",
    "        return np.where(x <= 0, y + alpha, 1)\n",
    "    return np.where(x <= 0, alpha*(np.exp(x) - 1), x)\n",
    "\n",
    "\n",
    "\n",
    "def softmax(x, y_oh=None, derivative=False):\n",
    "    if derivative:\n",
    "        y_pred = softmax(x)\n",
    "        k = np.nonzero(y_pred * y_oh)\n",
    "        pk = y_pred[k]\n",
    "        y_pred[k] = pk * (1.0 - pk)\n",
    "        return y_pred\n",
    "    exp = np.exp(x)\n",
    "    return exp / np.sum(exp, axis=1, keepdims=True)"
   ]
  },
  {
   "cell_type": "markdown",
   "metadata": {},
   "source": [
    "### FUNÇÕES DE CUSTO"
   ]
  },
  {
   "cell_type": "code",
   "execution_count": 66,
   "metadata": {},
   "outputs": [],
   "source": [
    "def binary_cross_entropy(y, y_pred, derivative=False):\n",
    "    if derivative:\n",
    "        return -(y - y_pred) / (y_pred * (1 - y_pred) * y.shape[0])\n",
    "    return -(np.mean(y*np.log(y_pred) + (1 - y)*(np.log(1 - y_pred))))\n",
    "\n",
    "def sigmoid_cross_entropy(y, y_pred, derivative=False):\n",
    "    y_sigmoid = sigmoid(y_pred)\n",
    "    if derivative:\n",
    "        -(y - y_sigmoid) / y.shape[0]\n",
    "    return -(np.mean(y*np.log(y_sigmoid) + (1 - y)*(np.log(1 - y_sigmoid))))\n",
    "\n",
    "def neg_log_likelihood(y_oh, y_pred, derivative=False):\n",
    "    k = np.nonzero(y_pred * y_oh)\n",
    "    pk = y_pred[k]\n",
    "    if derivative:\n",
    "        y_pred[k] = (-1.0 / pk)\n",
    "        return y_pred\n",
    "    return np.mean(-np.log(pk))\n",
    "\n",
    "def softmax_neg_log_likelihood(y_oh, y_pred, derivative=False):\n",
    "    y_softmax = softmax(y_pred)\n",
    "    if derivative:\n",
    "        return -(y_oh - y_softmax) / y_oh.shape[0]    \n",
    "    return neg_log_likelihood(y_oh, y_softmax)"
   ]
  },
  {
   "cell_type": "markdown",
   "metadata": {},
   "source": [
    "### INICIALIZAÇÕES"
   ]
  },
  {
   "cell_type": "code",
   "execution_count": 67,
   "metadata": {},
   "outputs": [],
   "source": [
    "def zeros(rows, cols):\n",
    "    return np.zeros((rows, cols))\n",
    "\n",
    "def ones(rows, cols):\n",
    "    return np.ones((rows, cols))\n",
    "\n",
    "def random_normal(rows, cols):\n",
    "    return np.random.randn(rows, cols)\n",
    "\n",
    "def random_uniform(rows, cols):\n",
    "    return np.random.rand(rows, cols)\n",
    "\n",
    "def glorot_normal(rows, cols):\n",
    "    std_dev = np.sqrt(2.0 / (rows + cols))\n",
    "    return std_dev * np.random.randn(rows, cols)\n",
    "\n",
    "def glorot_uniform(rows, cols):\n",
    "    limit = np.sqrt(6.0 / rows + cols)\n",
    "    return 2 * limit * np.random.rand(rows, cols) - limit"
   ]
  },
  {
   "cell_type": "markdown",
   "metadata": {},
   "source": [
    "### REDE"
   ]
  },
  {
   "cell_type": "code",
   "execution_count": 68,
   "metadata": {},
   "outputs": [],
   "source": [
    "class Layer():\n",
    "    def __init__(self, input_dim, output_dim, weights_initializer=random_normal, bias_initializer=ones, activation=linear):\n",
    "        self.input_dim = input_dim\n",
    "        self.output_dim = output_dim\n",
    "        self.weights = weights_initializer(output_dim, input_dim)\n",
    "        self.biases = bias_initializer(1, output_dim)\n",
    "        self.activation = activation\n",
    "\n",
    "\n",
    "        self._activ_inp, self._activ_out = None, None\n",
    "        self._dweights, self._dbiases, self._prev_dweights = None, None, 0.0\n",
    "\n",
    "class NeuralNetwork():\n",
    "    def __init__(self, cost_func=sigmoid_cross_entropy, learnig_rate=1e-3):\n",
    "        self.layers = []\n",
    "        self.cost_func = cost_func\n",
    "        self.learning_rate = learnig_rate\n",
    "\n",
    "    def fit(self, x_train, y_train, epochs=100, verbose=10):\n",
    "        for epoch in range(epochs + 1):\n",
    "            y_pred = self.__feedforward(x_train)\n",
    "            self.__backprop(y_train, y_pred)\n",
    "\n",
    "            if epoch % verbose == 0:\n",
    "                loss_train = self.cost_func(y_train, self.predict(x_train))\n",
    "                print(\"epochs: {0:=4}/{1} loss_train: {2:.8f}\".format(epoch, epochs, loss_train))\n",
    "\n",
    "    def predict(self, x):\n",
    "        return self.__feedforward(x)\n",
    "\n",
    "    def save(self, file_path):\n",
    "        pkl.dump(self, open(file_path, 'wb'), -1)\n",
    "\n",
    "    def load(file_path):\n",
    "        return pkl.load(open(file_path, 'rb'))\n",
    "\n",
    "    def __feedforward(self, x):\n",
    "        self.layers[0].input = x\n",
    "        for current_layer, next_layer in zip(self.layers, self.layers[1:] + [Layer(0, 0)]):\n",
    "            y = np.dot(current_layer.input, current_layer.weights.T) + current_layer.biases\n",
    "            current_layer._activ_inp = y\n",
    "            current_layer._activ_out = next_layer.input = current_layer.activation(y)\n",
    "        return self.layers[-1]._activ_out\n",
    "\n",
    "\n",
    "    def __backprop(self, y, y_pred):\n",
    "        last_delta = self.cost_func(y, y_pred, derivative=True)\n",
    "        for layer in reversed(self.layers):\n",
    "            dactivation = layer.activation(layer._activ_inp, derivative=True) * last_delta\n",
    "            last_delta = np.dot(dactivation, layer.weights)\n",
    "            layer._dweights = np.dot(dactivation.T, layer.input)\n",
    "            layer._dbiases = 1.0 * dactivation.sum(axis=0, keepdims=True)\n",
    "\n",
    "        for layer in reversed(self.layers):\n",
    "            layer.weights = layer.weights - self.learning_rate * layer._dweights\n",
    "            layer.biases = layer.biases - self.learning_rate * layer._dbiases\n"
   ]
  },
  {
   "cell_type": "markdown",
   "metadata": {},
   "source": [
    "### DATA"
   ]
  },
  {
   "cell_type": "code",
   "execution_count": 69,
   "metadata": {},
   "outputs": [
    {
     "name": "stdout",
     "output_type": "stream",
     "text": [
      "1001\n"
     ]
    }
   ],
   "source": [
    "#train_data = pd.read_csv(\"mnist_train.csv\")\n",
    "#test_data = pd.read_csv(\"mnist_test.csv\")\n",
    "#data.head()\n",
    "\n",
    "with open(\"mnist_train.csv\") as train_data:\n",
    "    train_list = list(itertools.islice(train_data, 1001))\n",
    "\n",
    "'''test_data = open(\"mnist_test.csv\")\n",
    "test_list = test_data.readlines()\n",
    "test_data.close()'''\n",
    "\n",
    "print(len(train_list))\n",
    "#print(len(test_list))\n"
   ]
  },
  {
   "cell_type": "code",
   "execution_count": 70,
   "metadata": {},
   "outputs": [
    {
     "name": "stdout",
     "output_type": "stream",
     "text": [
      "784 1\n",
      "[[1. 0. 0. ... 0. 0. 0.]\n",
      " [0. 0. 0. ... 0. 0. 0.]\n",
      " [0. 1. 0. ... 0. 0. 0.]\n",
      " ...\n",
      " [0. 0. 0. ... 0. 0. 0.]\n",
      " [0. 0. 0. ... 0. 0. 0.]\n",
      " [1. 0. 0. ... 0. 0. 0.]]\n"
     ]
    }
   ],
   "source": [
    "\n",
    "x, y = [], []\n",
    "\n",
    "for line in train_list[1:]:\n",
    "    values = line.split(\",\")\n",
    "    label = int(values[0])\n",
    "\n",
    "    image_array = np.asfarray(values[1:]).reshape((28,28))\n",
    "    \n",
    "    x.append(image_array.flatten())\n",
    "    y.append(label)\n",
    "\n",
    "    #plt.figure()\n",
    "    #plt.imshow(image_array, cmap=\"Greys\", interpolation=\"None\")\n",
    "    #plt.show()\n",
    "\n",
    "x = np.asarray(x)\n",
    "y = np.asarray(y).reshape(-1, 1)\n",
    "'''\n",
    "for line in train_list[1:]:\n",
    "    values = line.split(\",\")\n",
    "    label = int(values[0])\n",
    "    image_data = np.from\n",
    "    '''\n",
    "\n",
    "print(x.shape[1], y.shape[1])\n",
    "\n",
    "onehot = OneHotEncoder(sparse_output=False)\n",
    "y_onehot = onehot.fit_transform(y)\n",
    "print(y_onehot)"
   ]
  },
  {
   "cell_type": "code",
   "execution_count": 71,
   "metadata": {},
   "outputs": [
    {
     "name": "stdout",
     "output_type": "stream",
     "text": [
      "epochs:    0/2000 loss_train: 5.06865146\n",
      "epochs:  100/2000 loss_train: 0.93946033\n",
      "epochs:  200/2000 loss_train: 0.68971226\n",
      "epochs:  300/2000 loss_train: 0.63633780\n",
      "epochs:  400/2000 loss_train: 0.60154059\n",
      "epochs:  500/2000 loss_train: 0.57363469\n",
      "epochs:  600/2000 loss_train: 0.54272349\n",
      "epochs:  700/2000 loss_train: 0.52105998\n",
      "epochs:  800/2000 loss_train: 0.52124302\n",
      "epochs:  900/2000 loss_train: 0.48392305\n",
      "epochs: 1000/2000 loss_train: 0.47021608\n",
      "epochs: 1100/2000 loss_train: 0.45670819\n",
      "epochs: 1200/2000 loss_train: 0.44442742\n",
      "epochs: 1300/2000 loss_train: 0.43366836\n",
      "epochs: 1400/2000 loss_train: 0.42217320\n",
      "epochs: 1500/2000 loss_train: 0.41342254\n",
      "epochs: 1600/2000 loss_train: 0.40559915\n",
      "epochs: 1700/2000 loss_train: 0.39594417\n",
      "epochs: 1800/2000 loss_train: 0.38824706\n",
      "epochs: 1900/2000 loss_train: 0.37934775\n",
      "epochs: 2000/2000 loss_train: 0.37236069\n",
      "Acurácia: 92.80%\n"
     ]
    }
   ],
   "source": [
    "input_dim, output_dim = x.shape[1], y_onehot.shape[1]\n",
    "\n",
    "nn = NeuralNetwork(cost_func=softmax_neg_log_likelihood, learnig_rate=1e-2)\n",
    "nn.layers.append(Layer(input_dim=input_dim, output_dim=64, activation=sigmoid, weights_initializer=glorot_normal))\n",
    "nn.layers.append(Layer(input_dim=64, output_dim=64, activation=sigmoid))\n",
    "nn.layers.append(Layer(input_dim=64, output_dim=64, activation=sigmoid))\n",
    "nn.layers.append(Layer(input_dim=64, output_dim=output_dim, activation=linear))\n",
    "\n",
    "nn.fit(x, y_onehot, epochs=2000, verbose=100)\n",
    "\n",
    "nn.save('modelnpNN.pkl')\n",
    "\n",
    "y_pred = np.argmax(nn.predict(x), axis=1)\n",
    "print('Acurácia: {:.2f}%'.format(100*accuracy_score(y, y_pred)))"
   ]
  },
  {
   "cell_type": "code",
   "execution_count": 72,
   "metadata": {},
   "outputs": [],
   "source": [
    "def random_image():\n",
    "    with open('mnist_test.csv') as test:\n",
    "        reader = csv.reader(test)\n",
    "        chosen_row = random.choice(list(reader))\n",
    "    return chosen_row"
   ]
  },
  {
   "cell_type": "code",
   "execution_count": 73,
   "metadata": {},
   "outputs": [],
   "source": [
    "def get_test_image():\n",
    "    row = random_image()\n",
    "    #print(row)\n",
    "\n",
    "    tlabel = (row[0])\n",
    "    test_image_array =  np.asfarray(row[1:]).reshape((28, 28))\n",
    "    #print(test_image_array)\n",
    "    \n",
    "    return tlabel, test_image_array\n",
    "\n",
    "def print_test_image():\n",
    "    tlabel, test_image_array = get_test_image()\n",
    "\n",
    "    print(tlabel)\n",
    "\n",
    "    plt.figure()\n",
    "    plt.imshow(test_image_array, cmap=\"Greys\", interpolation=\"None\")\n",
    "    plt.show()\n",
    "    "
   ]
  },
  {
   "cell_type": "code",
   "execution_count": 74,
   "metadata": {},
   "outputs": [
    {
     "name": "stdout",
     "output_type": "stream",
     "text": [
      "7\n"
     ]
    },
    {
     "data": {
      "image/png": "[encoded data removed]",
      "text/plain": [
       "<Figure size 640x480 with 1 Axes>"
      ]
     },
     "metadata": {},
     "output_type": "display_data"
    }
   ],
   "source": [
    "print_test_image()"
   ]
  },
  {
   "cell_type": "code",
   "execution_count": null,
   "metadata": {},
   "outputs": [],
   "source": [
    "def test(tlabel, test_image_array):\n",
    "    "
   ]
  }
 ],
 "metadata": {
  "kernelspec": {
   "display_name": "mpdl",
   "language": "python",
   "name": "python3"
  },
  "language_info": {
   "codemirror_mode": {
    "name": "ipython",
    "version": 3
   },
   "file_extension": ".py",
   "mimetype": "text/x-python",
   "name": "python",
   "nbconvert_exporter": "python",
   "pygments_lexer": "ipython3",
   "version": "3.11.9"
  }
 },
 "nbformat": 4,
 "nbformat_minor": 2
}
